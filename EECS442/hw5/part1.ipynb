{
 "cells": [
  {
   "cell_type": "markdown",
   "metadata": {
    "id": "t84tK2fjAGux"
   },
   "source": [
    "# EECS 442 Assignment 5(1): Fashion-MNIST Classification\n",
    "In this part, you will implement and train Convolutional Neural Networks (ConvNets) in PyTorch to classify images. Unlike HW4, backpropagation is automatically inferred by PyTorch, so you only need to write code for the forward pass.\n",
    "\n",
    "Before we start, please put your name and UMID in following format\n",
    "\n",
    ": Firstname LASTNAME, #00000000   //   e.g.) Justin JOHNSON, #12345678"
   ]
  },
  {
   "cell_type": "markdown",
   "metadata": {
    "id": "3Zc0gjHQAGPs"
   },
   "source": [
    "**Your Answer:**   \n",
    "Hello WORLD, #XXXXXXXX"
   ]
  },
  {
   "cell_type": "markdown",
   "metadata": {
    "id": "b8zMyTMC0VDm"
   },
   "source": [
    "## Setup"
   ]
  },
  {
   "cell_type": "code",
   "execution_count": 2,
   "metadata": {
    "id": "mc2dzDlI_-6x"
   },
   "outputs": [],
   "source": [
    "import numpy as np\n",
    "import matplotlib.pyplot as plt\n",
    "from tqdm import tqdm # Displays a progress bar\n",
    "\n",
    "import torch\n",
    "from torch import nn\n",
    "from torch import optim\n",
    "import torch.nn.functional as F\n",
    "from torchsummary import summary\n",
    "from torchvision import datasets, transforms\n",
    "from torch.utils.data import Dataset, Subset, DataLoader, random_split"
   ]
  },
  {
   "cell_type": "code",
   "execution_count": 3,
   "metadata": {
    "id": "WvC_h1RpCuXN"
   },
   "outputs": [],
   "source": [
    "device = torch.device('cuda:0' if torch.cuda.is_available() else \"cpu\")"
   ]
  },
  {
   "cell_type": "markdown",
   "metadata": {
    "id": "ZMKs1--aAe9c"
   },
   "source": [
    "## Loading Dataset\n",
    "The dataset we use is Fashion-MNIST dataset, which is available at https://github.com/zalandoresearch/fashion-mnist and in torchvision.datasets. Fashion-MNIST has 10 classes, 60000 training+validation images (we have splitted it to have 50000 training images and 10000 validation images, but you can change the numbers), and 10000 test images."
   ]
  },
  {
   "cell_type": "code",
   "execution_count": 4,
   "metadata": {
    "id": "Tbwq9R1cAbnc"
   },
   "outputs": [
    {
     "name": "stdout",
     "output_type": "stream",
     "text": [
      "Loading datasets...\n",
      "Downloading http://fashion-mnist.s3-website.eu-central-1.amazonaws.com/train-images-idx3-ubyte.gz\n",
      "Downloading http://fashion-mnist.s3-website.eu-central-1.amazonaws.com/train-images-idx3-ubyte.gz to ./FashionMNIST/raw/train-images-idx3-ubyte.gz\n"
     ]
    },
    {
     "name": "stderr",
     "output_type": "stream",
     "text": [
      "26422272it [00:01, 17002027.57it/s]                              \n"
     ]
    },
    {
     "name": "stdout",
     "output_type": "stream",
     "text": [
      "Extracting ./FashionMNIST/raw/train-images-idx3-ubyte.gz to ./FashionMNIST/raw\n",
      "\n",
      "Downloading http://fashion-mnist.s3-website.eu-central-1.amazonaws.com/train-labels-idx1-ubyte.gz\n",
      "Downloading http://fashion-mnist.s3-website.eu-central-1.amazonaws.com/train-labels-idx1-ubyte.gz to ./FashionMNIST/raw/train-labels-idx1-ubyte.gz\n"
     ]
    },
    {
     "name": "stderr",
     "output_type": "stream",
     "text": [
      "29696it [00:00, 235158.06it/s]                           \n"
     ]
    },
    {
     "name": "stdout",
     "output_type": "stream",
     "text": [
      "Extracting ./FashionMNIST/raw/train-labels-idx1-ubyte.gz to ./FashionMNIST/raw\n",
      "\n",
      "Downloading http://fashion-mnist.s3-website.eu-central-1.amazonaws.com/t10k-images-idx3-ubyte.gz\n",
      "Downloading http://fashion-mnist.s3-website.eu-central-1.amazonaws.com/t10k-images-idx3-ubyte.gz to ./FashionMNIST/raw/t10k-images-idx3-ubyte.gz\n"
     ]
    },
    {
     "name": "stderr",
     "output_type": "stream",
     "text": [
      "4422656it [00:01, 4310232.24it/s]                             \n"
     ]
    },
    {
     "name": "stdout",
     "output_type": "stream",
     "text": [
      "Extracting ./FashionMNIST/raw/t10k-images-idx3-ubyte.gz to ./FashionMNIST/raw\n",
      "\n",
      "Downloading http://fashion-mnist.s3-website.eu-central-1.amazonaws.com/t10k-labels-idx1-ubyte.gz\n",
      "Downloading http://fashion-mnist.s3-website.eu-central-1.amazonaws.com/t10k-labels-idx1-ubyte.gz to ./FashionMNIST/raw/t10k-labels-idx1-ubyte.gz\n"
     ]
    },
    {
     "name": "stderr",
     "output_type": "stream",
     "text": [
      "6144it [00:00, 13620403.69it/s]         "
     ]
    },
    {
     "name": "stdout",
     "output_type": "stream",
     "text": [
      "Extracting ./FashionMNIST/raw/t10k-labels-idx1-ubyte.gz to ./FashionMNIST/raw\n",
      "\n",
      "Done!\n"
     ]
    },
    {
     "name": "stderr",
     "output_type": "stream",
     "text": [
      "\n"
     ]
    }
   ],
   "source": [
    "# Load the dataset and train, val, test splits\n",
    "print(\"Loading datasets...\")\n",
    "# Transform from [0,255] uint8 to [0,1] float,\n",
    "# then normalize to zero mean and unit variance\n",
    "FASHION_transform = transforms.Compose([\n",
    "                        transforms.ToTensor(),\n",
    "                        transforms.Normalize([0.2859], [0.3530]) \n",
    "                    ])\n",
    "FASHION_trainval = datasets.FashionMNIST('.', download=True, train=True,\n",
    "                                         transform=FASHION_transform)\n",
    "FASHION_train = Subset(FASHION_trainval, range(50000))\n",
    "FASHION_val = Subset(FASHION_trainval, range(50000, 60000))\n",
    "FASHION_test = datasets.FashionMNIST('.', download=True, train=False,\n",
    "                                     transform=FASHION_transform)\n",
    "print(\"Done!\")"
   ]
  },
  {
   "cell_type": "markdown",
   "metadata": {
    "id": "Gqji7Q3XCIcY"
   },
   "source": [
    "Now, we will create the dataloder for train, val and test dataset. You are free to experiment with different batch sizes."
   ]
  },
  {
   "cell_type": "code",
   "execution_count": 5,
   "metadata": {
    "id": "Y0KyRJWGCCgb"
   },
   "outputs": [],
   "source": [
    "# Create dataloaders\n",
    "##############################################################################\n",
    "# TODO: Experiment with different batch sizes                                #\n",
    "##############################################################################\n",
    "trainloader = DataLoader(FASHION_train, batch_size=64, shuffle=True)\n",
    "valloader = DataLoader(FASHION_val, batch_size=64, shuffle=True)\n",
    "testloader = DataLoader(FASHION_test, batch_size=64, shuffle=True)\n",
    "##############################################################################\n",
    "#                             END OF YOUR CODE                               #\n",
    "##############################################################################"
   ]
  },
  {
   "cell_type": "markdown",
   "metadata": {
    "id": "f6rcDO7VCQ_q"
   },
   "source": [
    "## Model\n",
    "Initialize your model and experiment with with different optimizers, parameters (such as learning rate) and number of epochs."
   ]
  },
  {
   "cell_type": "code",
   "execution_count": 30,
   "metadata": {
    "id": "Hz0BSR9xCNiX"
   },
   "outputs": [
    {
     "name": "stdout",
     "output_type": "stream",
     "text": [
      "Your network:\n",
      "----------------------------------------------------------------\n",
      "        Layer (type)               Output Shape         Param #\n",
      "================================================================\n",
      "            Conv2d-1           [-1, 12, 24, 24]             312\n",
      "              ReLU-2           [-1, 12, 24, 24]               0\n",
      "         MaxPool2d-3           [-1, 12, 12, 12]               0\n",
      "            Conv2d-4             [-1, 24, 8, 8]           7,224\n",
      "              ReLU-5             [-1, 24, 8, 8]               0\n",
      "         MaxPool2d-6             [-1, 24, 4, 4]               0\n",
      "           Flatten-7                  [-1, 384]               0\n",
      "            Linear-8                   [-1, 10]           3,850\n",
      "================================================================\n",
      "Total params: 11,386\n",
      "Trainable params: 11,386\n",
      "Non-trainable params: 0\n",
      "----------------------------------------------------------------\n",
      "Input size (MB): 0.00\n",
      "Forward/backward pass size (MB): 0.15\n",
      "Params size (MB): 0.04\n",
      "Estimated Total Size (MB): 0.19\n",
      "----------------------------------------------------------------\n",
      "None\n"
     ]
    }
   ],
   "source": [
    "class Network(nn.Module):\n",
    "  def __init__(self):\n",
    "    super().__init__()\n",
    "    ##############################################################################\n",
    "    # TODO: Design your own network, define layers here.                          #\n",
    "    # Here We provide a sample of two-layer fc network from HW4 Part3.           #\n",
    "    # Your solution, however, should contain convolutional layers.               #\n",
    "    # Refer to PyTorch documentations of torch.nn to pick your layers.           #\n",
    "    # (https://pytorch.org/docs/stable/nn.html)                                  #\n",
    "    # Some common choices: Linear, Conv2d, ReLU, MaxPool2d, AvgPool2d, Dropout   #\n",
    "    # If you have many layers, use nn.Sequential() to simplify your code         #\n",
    "    ##############################################################################\n",
    "    # from 28x28 input image to hidden layer of size 256\n",
    "    \n",
    "    # self.fc1 = nn.Linear(28*28, 8) \n",
    "    # # from hidden layer to 10 class scores\n",
    "    # self.fc2 = nn.Linear(8,10)\n",
    "\n",
    "    self.features=nn.Sequential(\n",
    "      nn.Conv2d(1,12,(5,5),),\n",
    "      nn.ReLU(),\n",
    "      nn.MaxPool2d((2,2),2),\n",
    "      nn.Conv2d(12,24,(5,5)),\n",
    "      nn.ReLU(),\n",
    "      nn.MaxPool2d((2,2),2),\n",
    "      nn.Flatten(),\n",
    "      nn.Linear(384,10)\n",
    "    )\n",
    "    ##############################################################################\n",
    "    #                             END OF YOUR CODE                               #\n",
    "    ##############################################################################\n",
    "  \n",
    "  def forward(self,x):\n",
    "    ##############################################################################\n",
    "    # TODO: Design your own network, implement forward pass here                 # \n",
    "    ##############################################################################\n",
    "    # Flatten each image in the batch\n",
    "    x = self.features(x)\n",
    "    return x\n",
    "    ##############################################################################\n",
    "    #                             END OF YOUR CODE                               #\n",
    "    ##############################################################################\n",
    "\n",
    "model = Network().to(device)\n",
    "criterion = nn.CrossEntropyLoss() # Specify the loss layer\n",
    "print('Your network:')\n",
    "print(summary(model, (1,28,28))) # visualize your model\n",
    "\n",
    "##############################################################################\n",
    "# TODO: Modify the lines below to experiment with different optimizers,      #\n",
    "# parameters (such as learning rate) and number of epochs.                   #\n",
    "##############################################################################\n",
    "# Set up optimization hyperparameters\n",
    "learning_rate = 1e-2\n",
    "weight_decay = 1e-4\n",
    "num_epoch = 10  # TODO: Choose an appropriate number of training epochs\n",
    "optimizer = optim.Adam(model.parameters(), lr=learning_rate,\n",
    "                       weight_decay=weight_decay)\n",
    "##############################################################################\n",
    "#                             END OF YOUR CODE                               #\n",
    "##############################################################################"
   ]
  },
  {
   "cell_type": "markdown",
   "metadata": {
    "id": "xq9fTZiuDJ3I"
   },
   "source": [
    "Run the cell below to start your training, we expect you to achieve over **85%** on the test set."
   ]
  },
  {
   "cell_type": "code",
   "execution_count": 31,
   "metadata": {
    "id": "hOFaEvBDDHzQ"
   },
   "outputs": [
    {
     "name": "stdout",
     "output_type": "stream",
     "text": [
      "Start training...\n",
      "-----------------Epoch = 1-----------------\n"
     ]
    },
    {
     "name": "stderr",
     "output_type": "stream",
     "text": [
      "100%|██████████| 782/782 [00:16<00:00, 48.07it/s]\n"
     ]
    },
    {
     "name": "stdout",
     "output_type": "stream",
     "text": [
      "\n",
      " Epoch 1 loss:0.5032361295274304\n"
     ]
    },
    {
     "name": "stderr",
     "output_type": "stream",
     "text": [
      "100%|██████████| 782/782 [00:08<00:00, 93.69it/s]\n"
     ]
    },
    {
     "name": "stdout",
     "output_type": "stream",
     "text": [
      "\n",
      " Evaluation accuracy: 0.8581\n",
      "\n",
      " Evaluate on validation set...\n"
     ]
    },
    {
     "name": "stderr",
     "output_type": "stream",
     "text": [
      "100%|██████████| 157/157 [00:01<00:00, 92.39it/s]\n"
     ]
    },
    {
     "name": "stdout",
     "output_type": "stream",
     "text": [
      "\n",
      " Evaluation accuracy: 0.8479\n",
      "-----------------Epoch = 2-----------------\n"
     ]
    },
    {
     "name": "stderr",
     "output_type": "stream",
     "text": [
      "100%|██████████| 782/782 [00:15<00:00, 49.00it/s]\n"
     ]
    },
    {
     "name": "stdout",
     "output_type": "stream",
     "text": [
      "\n",
      " Epoch 2 loss:0.3927070031042599\n"
     ]
    },
    {
     "name": "stderr",
     "output_type": "stream",
     "text": [
      "100%|██████████| 782/782 [00:08<00:00, 94.64it/s]\n"
     ]
    },
    {
     "name": "stdout",
     "output_type": "stream",
     "text": [
      "\n",
      " Evaluation accuracy: 0.86684\n",
      "\n",
      " Evaluate on validation set...\n"
     ]
    },
    {
     "name": "stderr",
     "output_type": "stream",
     "text": [
      "100%|██████████| 157/157 [00:01<00:00, 95.71it/s]\n"
     ]
    },
    {
     "name": "stdout",
     "output_type": "stream",
     "text": [
      "\n",
      " Evaluation accuracy: 0.8582\n",
      "-----------------Epoch = 3-----------------\n"
     ]
    },
    {
     "name": "stderr",
     "output_type": "stream",
     "text": [
      "100%|██████████| 782/782 [00:15<00:00, 50.08it/s]\n"
     ]
    },
    {
     "name": "stdout",
     "output_type": "stream",
     "text": [
      "\n",
      " Epoch 3 loss:0.3728932401122492\n"
     ]
    },
    {
     "name": "stderr",
     "output_type": "stream",
     "text": [
      "100%|██████████| 782/782 [00:08<00:00, 95.35it/s]\n"
     ]
    },
    {
     "name": "stdout",
     "output_type": "stream",
     "text": [
      "\n",
      " Evaluation accuracy: 0.87696\n",
      "\n",
      " Evaluate on validation set...\n"
     ]
    },
    {
     "name": "stderr",
     "output_type": "stream",
     "text": [
      "100%|██████████| 157/157 [00:01<00:00, 95.85it/s]\n"
     ]
    },
    {
     "name": "stdout",
     "output_type": "stream",
     "text": [
      "\n",
      " Evaluation accuracy: 0.8666\n",
      "-----------------Epoch = 4-----------------\n"
     ]
    },
    {
     "name": "stderr",
     "output_type": "stream",
     "text": [
      "100%|██████████| 782/782 [00:15<00:00, 48.95it/s]\n"
     ]
    },
    {
     "name": "stdout",
     "output_type": "stream",
     "text": [
      "\n",
      " Epoch 4 loss:0.3629093559177788\n"
     ]
    },
    {
     "name": "stderr",
     "output_type": "stream",
     "text": [
      "100%|██████████| 782/782 [00:08<00:00, 92.75it/s]\n"
     ]
    },
    {
     "name": "stdout",
     "output_type": "stream",
     "text": [
      "\n",
      " Evaluation accuracy: 0.8768\n",
      "\n",
      " Evaluate on validation set...\n"
     ]
    },
    {
     "name": "stderr",
     "output_type": "stream",
     "text": [
      "100%|██████████| 157/157 [00:01<00:00, 93.77it/s]\n"
     ]
    },
    {
     "name": "stdout",
     "output_type": "stream",
     "text": [
      "\n",
      " Evaluation accuracy: 0.8638\n",
      "-----------------Epoch = 5-----------------\n"
     ]
    },
    {
     "name": "stderr",
     "output_type": "stream",
     "text": [
      "100%|██████████| 782/782 [00:16<00:00, 48.58it/s]\n"
     ]
    },
    {
     "name": "stdout",
     "output_type": "stream",
     "text": [
      "\n",
      " Epoch 5 loss:0.35599998535250155\n"
     ]
    },
    {
     "name": "stderr",
     "output_type": "stream",
     "text": [
      "100%|██████████| 782/782 [00:08<00:00, 90.39it/s]\n"
     ]
    },
    {
     "name": "stdout",
     "output_type": "stream",
     "text": [
      "\n",
      " Evaluation accuracy: 0.88148\n",
      "\n",
      " Evaluate on validation set...\n"
     ]
    },
    {
     "name": "stderr",
     "output_type": "stream",
     "text": [
      "100%|██████████| 157/157 [00:01<00:00, 93.12it/s]\n"
     ]
    },
    {
     "name": "stdout",
     "output_type": "stream",
     "text": [
      "\n",
      " Evaluation accuracy: 0.8664\n",
      "-----------------Epoch = 6-----------------\n"
     ]
    },
    {
     "name": "stderr",
     "output_type": "stream",
     "text": [
      "100%|██████████| 782/782 [00:16<00:00, 48.42it/s]\n"
     ]
    },
    {
     "name": "stdout",
     "output_type": "stream",
     "text": [
      "\n",
      " Epoch 6 loss:0.35400919927774793\n"
     ]
    },
    {
     "name": "stderr",
     "output_type": "stream",
     "text": [
      "100%|██████████| 782/782 [00:08<00:00, 92.42it/s]\n"
     ]
    },
    {
     "name": "stdout",
     "output_type": "stream",
     "text": [
      "\n",
      " Evaluation accuracy: 0.88048\n",
      "\n",
      " Evaluate on validation set...\n"
     ]
    },
    {
     "name": "stderr",
     "output_type": "stream",
     "text": [
      "100%|██████████| 157/157 [00:01<00:00, 90.29it/s]\n"
     ]
    },
    {
     "name": "stdout",
     "output_type": "stream",
     "text": [
      "\n",
      " Evaluation accuracy: 0.8628\n",
      "-----------------Epoch = 7-----------------\n"
     ]
    },
    {
     "name": "stderr",
     "output_type": "stream",
     "text": [
      "100%|██████████| 782/782 [00:15<00:00, 49.19it/s]\n"
     ]
    },
    {
     "name": "stdout",
     "output_type": "stream",
     "text": [
      "\n",
      " Epoch 7 loss:0.34487258285627037\n"
     ]
    },
    {
     "name": "stderr",
     "output_type": "stream",
     "text": [
      "100%|██████████| 782/782 [00:08<00:00, 90.19it/s]\n"
     ]
    },
    {
     "name": "stdout",
     "output_type": "stream",
     "text": [
      "\n",
      " Evaluation accuracy: 0.88128\n",
      "\n",
      " Evaluate on validation set...\n"
     ]
    },
    {
     "name": "stderr",
     "output_type": "stream",
     "text": [
      "100%|██████████| 157/157 [00:01<00:00, 93.12it/s]\n"
     ]
    },
    {
     "name": "stdout",
     "output_type": "stream",
     "text": [
      "\n",
      " Evaluation accuracy: 0.8645\n",
      "-----------------Epoch = 8-----------------\n"
     ]
    },
    {
     "name": "stderr",
     "output_type": "stream",
     "text": [
      "100%|██████████| 782/782 [00:16<00:00, 48.67it/s]\n"
     ]
    },
    {
     "name": "stdout",
     "output_type": "stream",
     "text": [
      "\n",
      " Epoch 8 loss:0.34906639677979756\n"
     ]
    },
    {
     "name": "stderr",
     "output_type": "stream",
     "text": [
      "100%|██████████| 782/782 [00:08<00:00, 92.72it/s]\n"
     ]
    },
    {
     "name": "stdout",
     "output_type": "stream",
     "text": [
      "\n",
      " Evaluation accuracy: 0.86864\n",
      "\n",
      " Evaluate on validation set...\n"
     ]
    },
    {
     "name": "stderr",
     "output_type": "stream",
     "text": [
      "100%|██████████| 157/157 [00:01<00:00, 93.19it/s]\n"
     ]
    },
    {
     "name": "stdout",
     "output_type": "stream",
     "text": [
      "\n",
      " Evaluation accuracy: 0.8574\n",
      "-----------------Epoch = 9-----------------\n"
     ]
    },
    {
     "name": "stderr",
     "output_type": "stream",
     "text": [
      "100%|██████████| 782/782 [00:16<00:00, 48.61it/s]\n"
     ]
    },
    {
     "name": "stdout",
     "output_type": "stream",
     "text": [
      "\n",
      " Epoch 9 loss:0.3475671285272712\n"
     ]
    },
    {
     "name": "stderr",
     "output_type": "stream",
     "text": [
      "100%|██████████| 782/782 [00:08<00:00, 89.65it/s]\n"
     ]
    },
    {
     "name": "stdout",
     "output_type": "stream",
     "text": [
      "\n",
      " Evaluation accuracy: 0.87734\n",
      "\n",
      " Evaluate on validation set...\n"
     ]
    },
    {
     "name": "stderr",
     "output_type": "stream",
     "text": [
      "100%|██████████| 157/157 [00:01<00:00, 87.00it/s]\n"
     ]
    },
    {
     "name": "stdout",
     "output_type": "stream",
     "text": [
      "\n",
      " Evaluation accuracy: 0.8588\n",
      "-----------------Epoch = 10-----------------\n"
     ]
    },
    {
     "name": "stderr",
     "output_type": "stream",
     "text": [
      "100%|██████████| 782/782 [00:16<00:00, 47.97it/s]\n"
     ]
    },
    {
     "name": "stdout",
     "output_type": "stream",
     "text": [
      "\n",
      " Epoch 10 loss:0.3364583899450424\n"
     ]
    },
    {
     "name": "stderr",
     "output_type": "stream",
     "text": [
      "100%|██████████| 782/782 [00:08<00:00, 88.36it/s]\n"
     ]
    },
    {
     "name": "stdout",
     "output_type": "stream",
     "text": [
      "\n",
      " Evaluation accuracy: 0.89014\n",
      "\n",
      " Evaluate on validation set...\n"
     ]
    },
    {
     "name": "stderr",
     "output_type": "stream",
     "text": [
      "100%|██████████| 157/157 [00:01<00:00, 87.97it/s]\n"
     ]
    },
    {
     "name": "stdout",
     "output_type": "stream",
     "text": [
      "\n",
      " Evaluation accuracy: 0.871\n",
      "Done!\n",
      "\n",
      " Evaluate on test set\n"
     ]
    },
    {
     "name": "stderr",
     "output_type": "stream",
     "text": [
      "100%|██████████| 157/157 [00:01<00:00, 86.53it/s]"
     ]
    },
    {
     "name": "stdout",
     "output_type": "stream",
     "text": [
      "\n",
      " Evaluation accuracy: 0.8712\n",
      "CPU times: user 4min 52s, sys: 4.62 s, total: 4min 56s\n",
      "Wall time: 4min 24s\n"
     ]
    },
    {
     "name": "stderr",
     "output_type": "stream",
     "text": [
      "\n"
     ]
    },
    {
     "data": {
      "text/plain": [
       "0.8712"
      ]
     },
     "execution_count": 31,
     "metadata": {},
     "output_type": "execute_result"
    }
   ],
   "source": [
    "%%time\n",
    "def train(model, trainloader, valloader, num_epoch = 10): # Train the model\n",
    "  print(\"Start training...\")\n",
    "  trn_loss_hist = []\n",
    "  trn_acc_hist = []\n",
    "  val_acc_hist = []\n",
    "  model.train() # Set the model to training mode\n",
    "  for i in range(num_epoch):\n",
    "    running_loss = []\n",
    "    print('-----------------Epoch = %d-----------------' % (i+1))\n",
    "    for batch, label in tqdm(trainloader):\n",
    "      batch = batch.to(device)\n",
    "      label = label.to(device)\n",
    "      optimizer.zero_grad() # Clear gradients from the previous iteration\n",
    "      pred = model(batch) # This will call Network.forward() that you implement\n",
    "      loss = criterion(pred, label) # Calculate the loss\n",
    "      running_loss.append(loss.item())\n",
    "      loss.backward() # Backprop gradients to all tensors in the network\n",
    "      optimizer.step() # Update trainable weights\n",
    "    print(\"\\n Epoch {} loss:{}\".format(i+1,np.mean(running_loss)))\n",
    "\n",
    "    # Keep track of training loss, accuracy, and validation loss\n",
    "    trn_loss_hist.append(np.mean(running_loss))\n",
    "    trn_acc_hist.append(evaluate(model, trainloader))\n",
    "    print(\"\\n Evaluate on validation set...\")\n",
    "    val_acc_hist.append(evaluate(model, valloader))\n",
    "  print(\"Done!\")\n",
    "  return trn_loss_hist, trn_acc_hist, val_acc_hist\n",
    "\n",
    "def evaluate(model, loader): # Evaluate accuracy on validation / test set\n",
    "  model.eval() # Set the model to evaluation mode\n",
    "  correct = 0\n",
    "  with torch.no_grad(): # Do not calculate grident to speed up computation\n",
    "    for batch, label in tqdm(loader):\n",
    "      batch = batch.to(device)\n",
    "      label = label.to(device)\n",
    "      pred = model(batch)\n",
    "      correct += (torch.argmax(pred,dim=1)==label).sum().item()\n",
    "    acc = correct/len(loader.dataset)\n",
    "    print(\"\\n Evaluation accuracy: {}\".format(acc))\n",
    "    return acc\n",
    "    \n",
    "trn_loss_hist, trn_acc_hist, val_acc_hist = train(model, trainloader, \n",
    "                                                  valloader, num_epoch)\n",
    "\n",
    "##############################################################################\n",
    "# TODO: Note down the evaluation accuracy on test set                        #\n",
    "##############################################################################\n",
    "print(\"\\n Evaluate on test set\")\n",
    "evaluate(model, testloader)"
   ]
  },
  {
   "cell_type": "markdown",
   "metadata": {
    "id": "kwDhwaydQR1Q"
   },
   "source": [
    "Once your training is complete, run the cell below to visualize the training and validation accuracies across iterations."
   ]
  },
  {
   "cell_type": "code",
   "execution_count": 33,
   "metadata": {
    "id": "1lYqngdtPQB8"
   },
   "outputs": [
    {
     "data": {
      "image/png": "[encoded data removed]",
      "text/plain": [
       "<Figure size 720x360 with 1 Axes>"
      ]
     },
     "metadata": {
      "needs_background": "light"
     },
     "output_type": "display_data"
    }
   ],
   "source": [
    "##############################################################################\n",
    "# TODO: Submit the accuracy plot                                             #\n",
    "##############################################################################\n",
    "# visualize the training / validation accuracies\n",
    "x = np.arange(num_epoch)\n",
    "# train/val accuracies for MiniVGG\n",
    "plt.figure()\n",
    "plt.plot(x, trn_acc_hist)\n",
    "plt.plot(x, val_acc_hist)\n",
    "plt.legend(['Training', 'Validation'])\n",
    "plt.xticks(x)\n",
    "plt.xlabel('Epoch')\n",
    "plt.ylabel('Accuracy')\n",
    "plt.title('fashion MNIST Classification')\n",
    "plt.gcf().set_size_inches(10, 5)\n",
    "plt.show()"
   ]
  }
 ],
 "metadata": {
  "accelerator": "GPU",
  "colab": {
   "authorship_tag": "ABX9TyNZ4ULxBTKmHEyTWvwhbA+X",
   "collapsed_sections": [],
   "name": "part1.ipynb",
   "provenance": [],
   "toc_visible": true
  },
  "kernelspec": {
   "display_name": "Python 3",
   "name": "python3"
  },
  "language_info": {
   "codemirror_mode": {
    "name": "ipython",
    "version": 3
   },
   "file_extension": ".py",
   "mimetype": "text/x-python",
   "name": "python",
   "nbconvert_exporter": "python",
   "pygments_lexer": "ipython3",
   "version": "3.9.7"
  }
 },
 "nbformat": 4,
 "nbformat_minor": 0
}
